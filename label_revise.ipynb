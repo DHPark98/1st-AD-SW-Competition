{
 "cells": [
  {
   "cell_type": "code",
   "execution_count": 5,
   "id": "ef839edb",
   "metadata": {},
   "outputs": [
    {
     "name": "stdout",
     "output_type": "stream",
     "text": [
      "['/Users/yunsu/sw_contest/data_img/copy/calib_before_c4f076c2-88f3-11ed-bdce-bc091be582b0.txt', '/Users/yunsu/sw_contest/data_img/copy/calib_before_b5f57aaa-88f3-11ed-bdce-bc091be582b0.txt', '/Users/yunsu/sw_contest/data_img/copy/calib_before_6eb05214-88f3-11ed-a723-bc091be582b0.txt', '/Users/yunsu/sw_contest/data_img/copy/calib_before_cc92b728-88f3-11ed-bdce-bc091be582b0.txt', '/Users/yunsu/sw_contest/data_img/copy/calib_before_c251da14-88f3-11ed-bdce-bc091be582b0.txt', '/Users/yunsu/sw_contest/data_img/copy/calib_before_c43d1f5a-88f3-11ed-bdce-bc091be582b0.txt', '/Users/yunsu/sw_contest/data_img/copy/calib_before_553e96b0-88f3-11ed-be48-bc091be582b0.txt', '/Users/yunsu/sw_contest/data_img/copy/calib_before_ad990e80-88f3-11ed-bdce-bc091be582b0.txt', '/Users/yunsu/sw_contest/data_img/copy/calib_before_57ec64b4-88f3-11ed-be48-bc091be582b0.txt', '/Users/yunsu/sw_contest/data_img/copy/calib_before_b7474424-88f3-11ed-bdce-bc091be582b0.txt', '/Users/yunsu/sw_contest/data_img/copy/calib_before_c592085c-88f3-11ed-bdce-bc091be582b0.txt', '/Users/yunsu/sw_contest/data_img/copy/calib_before_4cc1a0a4-88f3-11ed-be48-bc091be582b0.txt', '/Users/yunsu/sw_contest/data_img/copy/calib_before_7bf4345e-88f3-11ed-a723-bc091be582b0.txt', '/Users/yunsu/sw_contest/data_img/copy/calib_before_cda2597a-88f3-11ed-bdce-bc091be582b0.txt', '/Users/yunsu/sw_contest/data_img/copy/calib_before_6a466a56-88f3-11ed-a723-bc091be582b0.txt', '/Users/yunsu/sw_contest/data_img/copy/calib_before_b09dcfb2-88f3-11ed-bdce-bc091be582b0.txt', '/Users/yunsu/sw_contest/data_img/copy/calib_before_63b90b44-88f3-11ed-a723-bc091be582b0.txt', '/Users/yunsu/sw_contest/data_img/copy/calib_before_c6d0142a-88f3-11ed-bdce-bc091be582b0.txt', '/Users/yunsu/sw_contest/data_img/copy/calib_before_adff1be4-88f3-11ed-bdce-bc091be582b0.txt', '/Users/yunsu/sw_contest/data_img/copy/calib_before_51ccbf48-88f3-11ed-be48-bc091be582b0.txt', '/Users/yunsu/sw_contest/data_img/copy/calib_before_7930502c-88f3-11ed-a723-bc091be582b0.txt', '/Users/yunsu/sw_contest/data_img/copy/calib_before_79c67d4a-88f3-11ed-a723-bc091be582b0.txt', '/Users/yunsu/sw_contest/data_img/copy/calib_before_466b1ba4-88f3-11ed-be48-bc091be582b0.txt', '/Users/yunsu/sw_contest/data_img/copy/calib_before_7b5cb200-88f3-11ed-a723-bc091be582b0.txt', '/Users/yunsu/sw_contest/data_img/copy/calib_before_b1057572-88f3-11ed-bdce-bc091be582b0.txt', '/Users/yunsu/sw_contest/data_img/copy/calib_before_afafa4b8-88f3-11ed-bdce-bc091be582b0.txt', '/Users/yunsu/sw_contest/data_img/copy/calib_before_b80b9b3a-88f3-11ed-bdce-bc091be582b0.txt', '/Users/yunsu/sw_contest/data_img/copy/calib_before_6ad4c026-88f3-11ed-a723-bc091be582b0.txt', '/Users/yunsu/sw_contest/data_img/copy/calib_before_c61d0f9c-88f3-11ed-bdce-bc091be582b0.txt', '/Users/yunsu/sw_contest/data_img/copy/calib_before_c2f2febc-88f3-11ed-bdce-bc091be582b0.txt', '/Users/yunsu/sw_contest/data_img/copy/calib_before_b5687808-88f3-11ed-bdce-bc091be582b0.txt', '/Users/yunsu/sw_contest/data_img/copy/calib_before_6b4449aa-88f3-11ed-a723-bc091be582b0.txt', '/Users/yunsu/sw_contest/data_img/copy/calib_before_56d2c424-88f3-11ed-be48-bc091be582b0.txt', '/Users/yunsu/sw_contest/data_img/copy/calib_before_6dbae572-88f3-11ed-a723-bc091be582b0.txt', '/Users/yunsu/sw_contest/data_img/copy/calib_before_53ca53d2-88f3-11ed-be48-bc091be582b0.txt', '/Users/yunsu/sw_contest/data_img/copy/calib_before_4e767118-88f3-11ed-be48-bc091be582b0.txt', '/Users/yunsu/sw_contest/data_img/copy/calib_before_5472a4f6-88f3-11ed-be48-bc091be582b0.txt', '/Users/yunsu/sw_contest/data_img/copy/calib_before_778039b8-88f3-11ed-a723-bc091be582b0.txt', '/Users/yunsu/sw_contest/data_img/copy/calib_before_b7a1e294-88f3-11ed-bdce-bc091be582b0.txt', '/Users/yunsu/sw_contest/data_img/copy/calib_before_b66b5c98-88f3-11ed-bdce-bc091be582b0.txt', '/Users/yunsu/sw_contest/data_img/copy/calib_before_69c3edce-88f3-11ed-a723-bc091be582b0.txt', '/Users/yunsu/sw_contest/data_img/copy/calib_before_abb78c90-88f3-11ed-bdce-bc091be582b0.txt', '/Users/yunsu/sw_contest/data_img/copy/calib_before_c96449f4-88f3-11ed-bdce-bc091be582b0.txt', '/Users/yunsu/sw_contest/data_img/copy/calib_before_d0de78ee-88f3-11ed-bdce-bc091be582b0.txt', '/Users/yunsu/sw_contest/data_img/copy/calib_before_48be818e-88f3-11ed-be48-bc091be582b0.txt', '/Users/yunsu/sw_contest/data_img/copy/calib_before_c3cf1cc6-88f3-11ed-bdce-bc091be582b0.txt', '/Users/yunsu/sw_contest/data_img/copy/calib_before_acb43a58-88f3-11ed-bdce-bc091be582b0.txt', '/Users/yunsu/sw_contest/data_img/copy/calib_before_6cd30b26-88f3-11ed-a723-bc091be582b0.txt', '/Users/yunsu/sw_contest/data_img/copy/calib_before_ac446ee4-88f3-11ed-bdce-bc091be582b0.txt', '/Users/yunsu/sw_contest/data_img/copy/calib_before_6d51871c-88f3-11ed-a723-bc091be582b0.txt', '/Users/yunsu/sw_contest/data_img/copy/calib_before_d13c41b8-88f3-11ed-bdce-bc091be582b0.txt', '/Users/yunsu/sw_contest/data_img/copy/calib_before_b87141a6-88f3-11ed-bdce-bc091be582b0.txt', '/Users/yunsu/sw_contest/data_img/copy/calib_before_6228b766-88f3-11ed-a723-bc091be582b0.txt', '/Users/yunsu/sw_contest/data_img/copy/calib_before_c748cf78-88f3-11ed-bdce-bc091be582b0.txt', '/Users/yunsu/sw_contest/data_img/copy/calib_before_c87f1e10-88f3-11ed-bdce-bc091be582b0.txt', '/Users/yunsu/sw_contest/data_img/copy/calib_before_78cb384a-88f3-11ed-a723-bc091be582b0.txt', '/Users/yunsu/sw_contest/data_img/copy/calib_before_d225296e-88f3-11ed-bdce-bc091be582b0.txt', '/Users/yunsu/sw_contest/data_img/copy/calib_before_c8214222-88f3-11ed-bdce-bc091be582b0.txt', '/Users/yunsu/sw_contest/data_img/copy/calib_before_7cb0fecc-88f3-11ed-a723-bc091be582b0.txt', '/Users/yunsu/sw_contest/data_img/copy/calib_before_786021c2-88f3-11ed-a723-bc091be582b0.txt', '/Users/yunsu/sw_contest/data_img/copy/calib_before_c1b51166-88f3-11ed-bdce-bc091be582b0.txt', '/Users/yunsu/sw_contest/data_img/copy/calib_before_7a52589c-88f3-11ed-a723-bc091be582b0.txt', '/Users/yunsu/sw_contest/data_img/copy/calib_before_ccdf6df2-88f3-11ed-bdce-bc091be582b0.txt', '/Users/yunsu/sw_contest/data_img/copy/calib_before_60285336-88f3-11ed-a723-bc091be582b0.txt', '/Users/yunsu/sw_contest/data_img/copy/calib_before_57299fba-88f3-11ed-be48-bc091be582b0.txt', '/Users/yunsu/sw_contest/data_img/copy/calib_before_d2c7fe00-88f3-11ed-bdce-bc091be582b0.txt', '/Users/yunsu/sw_contest/data_img/copy/calib_before_ae7a03a4-88f3-11ed-bdce-bc091be582b0.txt', '/Users/yunsu/sw_contest/data_img/copy/calib_before_c462ddb2-88f3-11ed-bdce-bc091be582b0.txt', '/Users/yunsu/sw_contest/data_img/copy/calib_before_c545e6f2-88f3-11ed-bdce-bc091be582b0.txt', '/Users/yunsu/sw_contest/data_img/copy/calib_before_50e4e9ca-88f3-11ed-be48-bc091be582b0.txt', '/Users/yunsu/sw_contest/data_img/copy/calib_before_56646b64-88f3-11ed-be48-bc091be582b0.txt', '/Users/yunsu/sw_contest/data_img/copy/calib_before_4f84a138-88f3-11ed-be48-bc091be582b0.txt', '/Users/yunsu/sw_contest/data_img/copy/calib_before_7ac2d1ee-88f3-11ed-a723-bc091be582b0.txt', '/Users/yunsu/sw_contest/data_img/copy/calib_before_73bf1eca-88f3-11ed-a723-bc091be582b0.txt', '/Users/yunsu/sw_contest/data_img/copy/calib_before_ce91539a-88f3-11ed-bdce-bc091be582b0.txt', '/Users/yunsu/sw_contest/data_img/copy/calib_before_60af1718-88f3-11ed-a723-bc091be582b0.txt', '/Users/yunsu/sw_contest/data_img/copy/calib_before_61317a28-88f3-11ed-a723-bc091be582b0.txt', '/Users/yunsu/sw_contest/data_img/copy/calib_before_6e3b2e6c-88f3-11ed-a723-bc091be582b0.txt', '/Users/yunsu/sw_contest/data_img/copy/calib_before_43d368c4-88f3-11ed-be48-bc091be582b0.txt', '/Users/yunsu/sw_contest/data_img/copy/calib_before_ad2989b6-88f3-11ed-bdce-bc091be582b0.txt', '/Users/yunsu/sw_contest/data_img/copy/calib_before_6313073a-88f3-11ed-a723-bc091be582b0.txt', '/Users/yunsu/sw_contest/data_img/copy/calib_before_ce25a032-88f3-11ed-bdce-bc091be582b0.txt', '/Users/yunsu/sw_contest/data_img/copy/calib_before_6fb747bc-88f3-11ed-a723-bc091be582b0.txt', '/Users/yunsu/sw_contest/data_img/copy/calib_before_52479e66-88f3-11ed-be48-bc091be582b0.txt', '/Users/yunsu/sw_contest/data_img/copy/calib_before_77fa7598-88f3-11ed-a723-bc091be582b0.txt', '/Users/yunsu/sw_contest/data_img/copy/calib_before_d08f58f4-88f3-11ed-bdce-bc091be582b0.txt', '/Users/yunsu/sw_contest/data_img/copy/calib_before_c3808e44-88f3-11ed-bdce-bc091be582b0.txt', '/Users/yunsu/sw_contest/data_img/copy/calib_before_b4fead56-88f3-11ed-bdce-bc091be582b0.txt', '/Users/yunsu/sw_contest/data_img/copy/calib_before_b2023abe-88f3-11ed-bdce-bc091be582b0.txt', '/Users/yunsu/sw_contest/data_img/copy/calib_before_4a84ba1a-88f3-11ed-be48-bc091be582b0.txt', '/Users/yunsu/sw_contest/data_img/copy/calib_before_c8fe942e-88f3-11ed-bdce-bc091be582b0.txt', '/Users/yunsu/sw_contest/data_img/copy/calib_before_55fd15c2-88f3-11ed-be48-bc091be582b0.txt', '/Users/yunsu/sw_contest/data_img/copy/calib_before_b0239b66-88f3-11ed-bdce-bc091be582b0.txt', '/Users/yunsu/sw_contest/data_img/copy/calib_before_6f150d94-88f3-11ed-a723-bc091be582b0.txt', '/Users/yunsu/sw_contest/data_img/copy/calib_before_b160eb64-88f3-11ed-bdce-bc091be582b0.txt', '/Users/yunsu/sw_contest/data_img/copy/calib_before_c2a694a0-88f3-11ed-bdce-bc091be582b0.txt', '/Users/yunsu/sw_contest/data_img/copy/calib_before_6baa63ca-88f3-11ed-a723-bc091be582b0.txt', '/Users/yunsu/sw_contest/data_img/copy/calib_before_d029552c-88f3-11ed-bdce-bc091be582b0.txt', '/Users/yunsu/sw_contest/data_img/copy/calib_before_531ca64c-88f3-11ed-be48-bc091be582b0.txt']\n"
     ]
    }
   ],
   "source": [
    "import os\n",
    "from glob import glob\n",
    "path = '/Users/yunsu/sw_contest/data_img/copy/*.txt'\n",
    "file_list = glob(path)\n",
    "print(file_list)\n"
   ]
  },
  {
   "cell_type": "code",
   "execution_count": 12,
   "id": "62dce6a0",
   "metadata": {},
   "outputs": [
    {
     "name": "stdout",
     "output_type": "stream",
     "text": [
      "/Users/yunsu/sw_contest/data_img/labelling/calib_before_c4f076c2-88f3-11ed-bdce-bc091be582b0.txt\n"
     ]
    }
   ],
   "source": [
    "print(file_list[0][0:33] + \"labelling\" + file_list[0][37:])"
   ]
  },
  {
   "cell_type": "code",
   "execution_count": 15,
   "id": "c0b48885",
   "metadata": {},
   "outputs": [],
   "source": [
    "new = \"/Users/yunsu/sw_contest/data_img/new_label/\"\n",
    "for file in file_list:\n",
    "    file_new = file[0:33] + \"labelling\" + file[37:]\n",
    "    \n",
    "    f = open(file, 'r')\n",
    "    f_new = open(file_new, 'a')\n",
    "    while True:\n",
    "        line = f.readline()\n",
    "        if not line: \n",
    "            break\n",
    "        \n",
    "        \n",
    "        if line[0] == '0':\n",
    "            line = '1'+line[1:]\n",
    "        elif line[0] == '1':\n",
    "            line = '0'+line[1:]\n",
    "        elif line[0] == '2':\n",
    "            line = '2'+line[1:]\n",
    "        f_new.write(line)\n",
    "        \n",
    "        #print(line)\n",
    "    \n",
    "\n",
    "    #print(line)\n",
    "    f.close()\n",
    "    f_new.close()"
   ]
  },
  {
   "cell_type": "code",
   "execution_count": null,
   "id": "5da32fea",
   "metadata": {},
   "outputs": [],
   "source": []
  },
  {
   "cell_type": "code",
   "execution_count": null,
   "id": "79a70a70",
   "metadata": {},
   "outputs": [],
   "source": []
  },
  {
   "cell_type": "code",
   "execution_count": null,
   "id": "af5ea0ea",
   "metadata": {},
   "outputs": [],
   "source": []
  },
  {
   "cell_type": "code",
   "execution_count": null,
   "id": "58121bc4",
   "metadata": {},
   "outputs": [],
   "source": []
  },
  {
   "cell_type": "code",
   "execution_count": null,
   "id": "4946e954",
   "metadata": {},
   "outputs": [],
   "source": []
  },
  {
   "cell_type": "code",
   "execution_count": null,
   "id": "be269375",
   "metadata": {},
   "outputs": [],
   "source": []
  }
 ],
 "metadata": {
  "kernelspec": {
   "display_name": "ml",
   "language": "python",
   "name": "python3"
  },
  "language_info": {
   "codemirror_mode": {
    "name": "ipython",
    "version": 3
   },
   "file_extension": ".py",
   "mimetype": "text/x-python",
   "name": "python",
   "nbconvert_exporter": "python",
   "pygments_lexer": "ipython3",
   "version": "3.7.13"
  },
  "vscode": {
   "interpreter": {
    "hash": "4b53a73392c5f8f1f6487298a1bef1bc1a5db0754328a847550455f6228573af"
   }
  }
 },
 "nbformat": 4,
 "nbformat_minor": 5
}
