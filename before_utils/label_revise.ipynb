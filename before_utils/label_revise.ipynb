{
 "cells": [
  {
   "cell_type": "code",
   "execution_count": null,
   "id": "ef839edb",
   "metadata": {},
   "outputs": [],
   "source": [
    "import os\n",
    "from glob import glob\n",
    "path = '/Users/yunsu/sw_contest/data_img/copy/*.txt'\n",
    "file_list = glob(path)\n",
    "print(file_list)\n"
   ]
  },
  {
   "cell_type": "code",
   "execution_count": 12,
   "id": "62dce6a0",
   "metadata": {},
   "outputs": [
    {
     "name": "stdout",
     "output_type": "stream",
     "text": [
      "/Users/yunsu/sw_contest/data_img/labelling/calib_before_c4f076c2-88f3-11ed-bdce-bc091be582b0.txt\n"
     ]
    }
   ],
   "source": [
    "print(file_list[0][0:33] + \"labelling\" + file_list[0][37:])"
   ]
  },
  {
   "cell_type": "code",
   "execution_count": 15,
   "id": "c0b48885",
   "metadata": {},
   "outputs": [],
   "source": [
    "new = \"/Users/yunsu/sw_contest/data_img/new_label/\"\n",
    "for file in file_list:\n",
    "    file_new = file[0:33] + \"labelling\" + file[37:]\n",
    "    \n",
    "    f = open(file, 'r')\n",
    "    f_new = open(file_new, 'a')\n",
    "    while True:\n",
    "        line = f.readline()\n",
    "        if not line: \n",
    "            break\n",
    "        \n",
    "        \n",
    "        if line[0] == '0':\n",
    "            line = '1'+line[1:]\n",
    "        elif line[0] == '1':\n",
    "            line = '0'+line[1:]\n",
    "        elif line[0] == '2':\n",
    "            line = '2'+line[1:]\n",
    "        f_new.write(line)\n",
    "        \n",
    "        #print(line)\n",
    "    \n",
    "\n",
    "    #print(line)\n",
    "    f.close()\n",
    "    f_new.close()"
   ]
  }
 ],
 "metadata": {
  "kernelspec": {
   "display_name": "cv",
   "language": "python",
   "name": "python3"
  },
  "language_info": {
   "codemirror_mode": {
    "name": "ipython",
    "version": 3
   },
   "file_extension": ".py",
   "mimetype": "text/x-python",
   "name": "python",
   "nbconvert_exporter": "python",
   "pygments_lexer": "ipython3",
   "version": "3.8.13 (default, Mar 28 2022, 11:38:47) \n[GCC 7.5.0]"
  },
  "vscode": {
   "interpreter": {
    "hash": "f1c7e53f870fe209ff244f7ea9dc992735dbe142db32fa97f4677bab9b86d456"
   }
  }
 },
 "nbformat": 4,
 "nbformat_minor": 5
}
