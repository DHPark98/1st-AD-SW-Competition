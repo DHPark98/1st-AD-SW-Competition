{
 "cells": [
  {
   "cell_type": "code",
   "execution_count": 18,
   "id": "ef839edb",
   "metadata": {},
   "outputs": [
    {
     "name": "stdout",
     "output_type": "stream",
     "text": [
      "/Users/yunsu/sw_contest/car_detection/car--1674737368.843938.txt\n",
      "442\n"
     ]
    }
   ],
   "source": [
    "import os\n",
    "from glob import glob\n",
    "path = '/Users/yunsu/sw_contest/car_detection/*.txt'\n",
    "path_list = glob(path)\n",
    "print(path_list[0])\n",
    "print(len(path_list))\n",
    "\n"
   ]
  },
  {
   "cell_type": "code",
   "execution_count": 21,
   "id": "c0b48885",
   "metadata": {},
   "outputs": [],
   "source": [
    "new = \"/Users/yunsu/sw_contest/data_img/new_label/\"\n",
    "for txt_path in path_list:\n",
    "    dir, file = os.path.split(txt_path)\n",
    "    new_path = os.path.join(dir + '_new', file)\n",
    "    \n",
    "    f = open(txt_path, 'r')\n",
    "    f_new = open(new_path, 'a')\n",
    "    while True:\n",
    "        line = f.readline()\n",
    "        if not line: \n",
    "            break\n",
    "        \n",
    "        \n",
    "        if line[0] == '0':\n",
    "            line = '3' + line[1:]\n",
    "        f_new.write(line)\n",
    "        \n",
    "        #print(line)\n",
    "    \n",
    "\n",
    "    #print(line)\n",
    "    f.close()\n",
    "    f_new.close()"
   ]
  },
  {
   "cell_type": "code",
   "execution_count": 23,
   "id": "935fb82e",
   "metadata": {},
   "outputs": [
    {
     "name": "stdout",
     "output_type": "stream",
     "text": [
      "441\n"
     ]
    }
   ],
   "source": [
    "list = glob('/Users/yunsu/sw_contest/car_detection_new/*.png')\n",
    "\n",
    "print(len(list))"
   ]
  },
  {
   "cell_type": "code",
   "execution_count": null,
   "id": "7463dc33",
   "metadata": {},
   "outputs": [],
   "source": []
  }
 ],
 "metadata": {
  "kernelspec": {
   "display_name": "ml",
   "language": "python",
   "name": "python3"
  },
  "language_info": {
   "codemirror_mode": {
    "name": "ipython",
    "version": 3
   },
   "file_extension": ".py",
   "mimetype": "text/x-python",
   "name": "python",
   "nbconvert_exporter": "python",
   "pygments_lexer": "ipython3",
   "version": "3.7.13 (default, Mar 28 2022, 07:24:34) \n[Clang 12.0.0 ]"
  },
  "vscode": {
   "interpreter": {
    "hash": "4b53a73392c5f8f1f6487298a1bef1bc1a5db0754328a847550455f6228573af"
   }
  }
 },
 "nbformat": 4,
 "nbformat_minor": 5
}
