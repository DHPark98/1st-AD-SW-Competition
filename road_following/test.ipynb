{
 "cells": [
  {
   "cell_type": "code",
   "execution_count": 1,
   "metadata": {},
   "outputs": [],
   "source": [
    "\n",
    "from Algorithm.img_preprocess import total_function, cvt_binary\n",
    "import os\n",
    "import cv2\n",
    "from utility import preprocess, roi_cutting, dominant_gradient, return_road_direction\n",
    "from glob import glob\n"
   ]
  },
  {
   "cell_type": "code",
   "execution_count": 2,
   "metadata": {},
   "outputs": [
    {
     "name": "stdout",
     "output_type": "stream",
     "text": [
      "/hdd/woonho/autonomous_driving/rfdata/0115/f_bird--a6s20--1673182017.2283483--8899a1c8-8f52-11ed-98fa-c3ae2a3ec2c8.png\n"
     ]
    }
   ],
   "source": [
    "img_path = \"/hdd/woonho/autonomous_driving/rfdata/0115/\"\n",
    "\n",
    "img_idx = 104\n",
    "\n",
    "img_list = glob(img_path + \"f_bird--a6*.png\")\n",
    "\n",
    "print(img_list[img_idx])\n",
    "image = cv2.imread(os.path.join(img_path, img_list[img_idx]))\n",
    "roi_img = roi_cutting(cvt_binary(image))\n",
    "preprocess_img = roi_cutting(total_function(image))"
   ]
  },
  {
   "cell_type": "code",
   "execution_count": 3,
   "metadata": {},
   "outputs": [
    {
     "data": {
      "image/png": "[encoded data removed]",
      "text/plain": [
       "<Figure size 432x288 with 1 Axes>"
      ]
     },
     "metadata": {
      "needs_background": "light"
     },
     "output_type": "display_data"
    }
   ],
   "source": [
    "import matplotlib.pyplot as plt\n",
    "plt.imshow(roi_img, cmap='gray')\n",
    "plt.imshow(preprocess_img)\n",
    "plt.show()\n"
   ]
  },
  {
   "cell_type": "code",
   "execution_count": 4,
   "metadata": {},
   "outputs": [
    {
     "name": "stdout",
     "output_type": "stream",
     "text": [
      "6.001504546236903\n",
      "1\n"
     ]
    }
   ],
   "source": [
    "gradient, road_bottom_value = dominant_gradient(roi_img)\n",
    "print(gradient)\n",
    "print(return_road_direction(gradient))"
   ]
  },
  {
   "cell_type": "code",
   "execution_count": 5,
   "metadata": {},
   "outputs": [
    {
     "name": "stdout",
     "output_type": "stream",
     "text": [
      "[215 218 219 237 238 545 546 550 557 562 565 567 575]\n",
      "(238, 545)\n"
     ]
    }
   ],
   "source": [
    "import numpy as np\n",
    "from utility import find_nearest\n",
    "print(road_bottom_value)\n",
    "print(find_nearest(road_bottom_value, 320))"
   ]
  },
  {
   "cell_type": "code",
   "execution_count": null,
   "metadata": {},
   "outputs": [],
   "source": []
  },
  {
   "cell_type": "code",
   "execution_count": null,
   "metadata": {},
   "outputs": [],
   "source": []
  }
 ],
 "metadata": {
  "kernelspec": {
   "display_name": "cv",
   "language": "python",
   "name": "python3"
  },
  "language_info": {
   "codemirror_mode": {
    "name": "ipython",
    "version": 3
   },
   "file_extension": ".py",
   "mimetype": "text/x-python",
   "name": "python",
   "nbconvert_exporter": "python",
   "pygments_lexer": "ipython3",
   "version": "3.8.13"
  },
  "orig_nbformat": 4,
  "vscode": {
   "interpreter": {
    "hash": "f1c7e53f870fe209ff244f7ea9dc992735dbe142db32fa97f4677bab9b86d456"
   }
  }
 },
 "nbformat": 4,
 "nbformat_minor": 2
}
