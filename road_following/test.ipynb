{
 "cells": [
  {
   "cell_type": "code",
   "execution_count": 5,
   "metadata": {},
   "outputs": [],
   "source": [
    "\n",
    "from Algorithm.img_preprocess import total_function, cvt_binary\n",
    "import os\n",
    "import cv2\n",
    "from utility import preprocess, roi_cutting\n"
   ]
  },
  {
   "cell_type": "code",
   "execution_count": 6,
   "metadata": {},
   "outputs": [
    {
     "name": "stdout",
     "output_type": "stream",
     "text": [
      "f_bird--a7s20--1673445386.0646024--bcc30365-91b7-11ed-8ebe-f950612c03d0.png\n"
     ]
    }
   ],
   "source": [
    "img_path = \"/hdd/woonho/autonomous_driving/rfdata/0111/\"\n",
    "\n",
    "img_idx = 245\n",
    "\n",
    "img_list = os.listdir(img_path)\n",
    "\n",
    "print(img_list[img_idx])\n",
    "image = cv2.imread(os.path.join(img_path, img_list[img_idx]))\n",
    "transform_img = total_function(image)\n",
    "preprocess_img = preprocess(image, mode = \"test\")"
   ]
  },
  {
   "cell_type": "code",
   "execution_count": 7,
   "metadata": {},
   "outputs": [
    {
     "name": "stdout",
     "output_type": "stream",
     "text": [
      "tensor([[ 1.0346e-03, -1.0884e-01, -4.5122e-02, -1.0759e-01, -6.7801e-02,\n",
      "         -7.8145e-02, -9.7328e-02, -9.1413e-02, -8.0631e-02, -9.0096e-02,\n",
      "         -1.9175e-01, -1.0150e-01, -4.2075e-01, -6.4632e-02,  2.4957e+00]],\n",
      "       device='cuda:0', grad_fn=<AddmmBackward>)\n"
     ]
    }
   ],
   "source": [
    "from Networks.model import ResNet18\n",
    "\n",
    "weight_file = \"model_weight_file/best_steering_model_0115a.pth\"\n",
    "\n",
    "model = ResNet18(weight_file=weight_file)\n",
    "\n",
    "print(model.run(preprocess_img))"
   ]
  },
  {
   "cell_type": "code",
   "execution_count": 8,
   "metadata": {},
   "outputs": [
    {
     "data": {
      "image/png": "[encoded data removed]",
      "text/plain": [
       "<Figure size 432x288 with 1 Axes>"
      ]
     },
     "metadata": {
      "needs_background": "light"
     },
     "output_type": "display_data"
    }
   ],
   "source": [
    "import matplotlib.pyplot as plt\n",
    "roi_img = roi_cutting(transform_img)\n",
    "plt.imshow(roi_img, cmap='gray')\n",
    "plt.show()\n"
   ]
  },
  {
   "cell_type": "code",
   "execution_count": 9,
   "metadata": {},
   "outputs": [
    {
     "data": {
      "image/png": "[encoded data removed]",
      "text/plain": [
       "<Figure size 432x288 with 1 Axes>"
      ]
     },
     "metadata": {
      "needs_background": "light"
     },
     "output_type": "display_data"
    }
   ],
   "source": [
    "binary_img = cvt_binary(image)\n",
    "roi_binary = roi_cutting(binary_img)\n",
    "plt.imshow(roi_binary, cmap='gray')\n",
    "plt.show()"
   ]
  },
  {
   "cell_type": "code",
   "execution_count": null,
   "metadata": {},
   "outputs": [],
   "source": []
  }
 ],
 "metadata": {
  "kernelspec": {
   "display_name": "cv",
   "language": "python",
   "name": "python3"
  },
  "language_info": {
   "codemirror_mode": {
    "name": "ipython",
    "version": 3
   },
   "file_extension": ".py",
   "mimetype": "text/x-python",
   "name": "python",
   "nbconvert_exporter": "python",
   "pygments_lexer": "ipython3",
   "version": "3.8.13 (default, Mar 28 2022, 11:38:47) \n[GCC 7.5.0]"
  },
  "orig_nbformat": 4,
  "vscode": {
   "interpreter": {
    "hash": "f1c7e53f870fe209ff244f7ea9dc992735dbe142db32fa97f4677bab9b86d456"
   }
  }
 },
 "nbformat": 4,
 "nbformat_minor": 2
}
