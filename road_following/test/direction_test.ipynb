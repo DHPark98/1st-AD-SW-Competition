{
 "cells": [
  {
   "cell_type": "code",
   "execution_count": 2,
   "metadata": {},
   "outputs": [],
   "source": [
    "import sys\n",
    "sys.path.append(\"/home/woonho/python/1st-AD-SW-Competition/road_following\")\n",
    "\n",
    "from Algorithm.img_preprocess import total_function, cvt_binary\n",
    "import os\n",
    "import cv2\n",
    "from utility import preprocess, roi_cutting, dominant_gradient, return_road_direction\n",
    "from glob import glob\n",
    "import torch\n",
    "from Algorithm.Control import total_control, strengthen_control\n",
    "from Networks.model import ResNet18\n"
   ]
  },
  {
   "cell_type": "code",
   "execution_count": 7,
   "metadata": {},
   "outputs": [
    {
     "name": "stdout",
     "output_type": "stream",
     "text": [
      "/hdd/woonho/autonomous_driving/rfdata/0115/f_bird--a4s30--1673613758.206459--c2e20f55-933f-11ed-bd3c-41fa17627ac1.png\n"
     ]
    }
   ],
   "source": [
    "img_path = \"/hdd/woonho/autonomous_driving/rfdata/0115/\"\n",
    "\n",
    "img_idx = 100\n",
    "direction = 4\n",
    "img_list = glob(img_path + \"f_bird--a{}*.png\".format(direction))\n",
    "print(img_list[img_idx])\n",
    "image = cv2.imread(os.path.join(img_path, img_list[img_idx]))\n",
    "roi_img = roi_cutting(cvt_binary(image))\n",
    "preprocess_img = roi_cutting(total_function(image))\n",
    "\n",
    "# model = ResNet18(weight_file=\"../model_weight_file/best_steering_model_0116.pth\")"
   ]
  },
  {
   "cell_type": "code",
   "execution_count": 8,
   "metadata": {},
   "outputs": [
    {
     "data": {
      "image/png": "[encoded data removed]",
      "text/plain": [
       "<Figure size 1440x720 with 2 Axes>"
      ]
     },
     "metadata": {
      "needs_background": "light"
     },
     "output_type": "display_data"
    }
   ],
   "source": [
    "import matplotlib.pyplot as plt\n",
    "plt.figure(figsize=(20, 10))\n",
    "plt.subplot(121)\n",
    "plt.imshow(roi_img, cmap = 'gray')\n",
    "plt.subplot(122)\n",
    "plt.imshow(preprocess_img)\n",
    "\n",
    "plt.show()\n"
   ]
  },
  {
   "cell_type": "code",
   "execution_count": 9,
   "metadata": {},
   "outputs": [
    {
     "name": "stdout",
     "output_type": "stream",
     "text": [
      "road_direction : -1\n",
      "final_direction : -1\n",
      "Answer_direction : 4\n"
     ]
    }
   ],
   "source": [
    "\n",
    "gradient, road_bottom_value = dominant_gradient(roi_img)\n",
    "road_direction = return_road_direction(gradient)\n",
    "# model_direction = torch.argmax(model.run(preprocess(roi_img, mode = \"test\"))).item() - 7\n",
    "final_direction = strengthen_control(road_direction, road_bottom_value)\n",
    "print(\"road_direction : {}\".format(road_direction))\n",
    "print(\"final_direction : {}\".format(final_direction))\n",
    "print(\"Answer_direction : {}\".format(direction))"
   ]
  },
  {
   "cell_type": "code",
   "execution_count": 10,
   "metadata": {},
   "outputs": [
    {
     "name": "stdout",
     "output_type": "stream",
     "text": [
      "[177 179 180 182 183 189 196 197 199 201 515 517 519 520 521 531 532 535\n",
      " 536 539]\n",
      "(201, 515)\n"
     ]
    }
   ],
   "source": [
    "import numpy as np\n",
    "from utility import find_nearest\n",
    "print(road_bottom_value)\n",
    "print(find_nearest(road_bottom_value, 320))"
   ]
  },
  {
   "cell_type": "code",
   "execution_count": null,
   "metadata": {},
   "outputs": [],
   "source": []
  },
  {
   "cell_type": "code",
   "execution_count": null,
   "metadata": {},
   "outputs": [],
   "source": []
  }
 ],
 "metadata": {
  "kernelspec": {
   "display_name": "cv",
   "language": "python",
   "name": "python3"
  },
  "language_info": {
   "codemirror_mode": {
    "name": "ipython",
    "version": 3
   },
   "file_extension": ".py",
   "mimetype": "text/x-python",
   "name": "python",
   "nbconvert_exporter": "python",
   "pygments_lexer": "ipython3",
   "version": "3.8.13 (default, Mar 28 2022, 11:38:47) \n[GCC 7.5.0]"
  },
  "orig_nbformat": 4,
  "vscode": {
   "interpreter": {
    "hash": "f1c7e53f870fe209ff244f7ea9dc992735dbe142db32fa97f4677bab9b86d456"
   }
  }
 },
 "nbformat": 4,
 "nbformat_minor": 2
}
