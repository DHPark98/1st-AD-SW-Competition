{
 "cells": [
  {
   "cell_type": "code",
   "execution_count": 8,
   "metadata": {},
   "outputs": [
    {
     "name": "stdout",
     "output_type": "stream",
     "text": [
      "['abcd', 'abcd']\n"
     ]
    }
   ],
   "source": [
    "file = open(\"test.txt\", 'r')\n",
    "\n",
    "lines = file.readlines()\n",
    "lines = list(map(lambda s: s.strip(), lines))\n",
    "\n",
    "print(lines)\n",
    "    "
   ]
  },
  {
   "cell_type": "code",
   "execution_count": 7,
   "metadata": {},
   "outputs": [],
   "source": [
    "file = open(\"test.txt\", 'w')\n",
    "file.write(\"abcd\\n\")\n",
    "file.write(\"abcd\\n\")\n",
    "file.close()\n"
   ]
  },
  {
   "cell_type": "code",
   "execution_count": null,
   "metadata": {},
   "outputs": [],
   "source": []
  }
 ],
 "metadata": {
  "kernelspec": {
   "display_name": "cv",
   "language": "python",
   "name": "python3"
  },
  "language_info": {
   "codemirror_mode": {
    "name": "ipython",
    "version": 3
   },
   "file_extension": ".py",
   "mimetype": "text/x-python",
   "name": "python",
   "nbconvert_exporter": "python",
   "pygments_lexer": "ipython3",
   "version": "3.8.13"
  },
  "orig_nbformat": 4,
  "vscode": {
   "interpreter": {
    "hash": "f1c7e53f870fe209ff244f7ea9dc992735dbe142db32fa97f4677bab9b86d456"
   }
  }
 },
 "nbformat": 4,
 "nbformat_minor": 2
}
